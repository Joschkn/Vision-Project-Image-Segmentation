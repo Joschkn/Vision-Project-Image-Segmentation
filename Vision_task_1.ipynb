{
 "cells": [
  {
   "cell_type": "markdown",
   "metadata": {},
   "source": [
    "# Image Segmentation Task 1\n",
    "#### Welcome to the first task of Image Segmentation. Image segmentation is the process of partitioning the image into a set of pixels representing an object. In this task, you will be introduced to the problem of image segmentation and programming pipeline involved in image segmentation."
   ]
  },
  {
   "cell_type": "markdown",
   "metadata": {},
   "source": [
    "For the purpose of this task we will be using PASCAL VOC datset. The dataset contains a total of 2913 images with segmentation annotations. Code in the cell below will download the code and extract the dataset."
   ]
  },
  {
   "cell_type": "markdown",
   "metadata": {},
   "source": [
    "### 1.1 Loading the dataset"
   ]
  },
  {
   "cell_type": "code",
   "execution_count": null,
   "metadata": {
    "executionInfo": {
     "elapsed": 259698,
     "status": "ok",
     "timestamp": 1610647602623,
     "user": {
      "displayName": "dikshant gupta",
      "photoUrl": "https://lh3.googleusercontent.com/a-/AOh14GjGExYbOwwSrmoe8LVKyI5XQQl2f1k4HbD2Vx5Vpg=s64",
      "userId": "01845807612441668603"
     },
     "user_tz": -60
    },
    "id": "qunDv45j24Mg"
   },
   "outputs": [],
   "source": [
    "import os\n",
    "from os.path import join as pjoin\n",
    "import collections\n",
    "import json\n",
    "import torch\n",
    "#import imageio\n",
    "import numpy as np\n",
    "import scipy.misc as m\n",
    "import scipy.io as io\n",
    "import matplotlib.pyplot as plt\n",
    "import glob\n",
    "\n",
    "from PIL import Image\n",
    "from tqdm import tqdm\n",
    "from torch.utils import data\n",
    "from torchvision import transforms\n",
    "\n",
    "\n",
    "class pascalVOCDataset(data.Dataset):\n",
    "    \"\"\"Data loader for the Pascal VOC semantic segmentation dataset.\n",
    "\n",
    "    Annotations from both the original VOC data (which consist of RGB images\n",
    "    in which colours map to specific classes) and the SBD (Berkely) dataset\n",
    "    (where annotations are stored as .mat files) are converted into a common\n",
    "    `label_mask` format.  Under this format, each mask is an (M,N) array of\n",
    "    integer values from 0 to 21, where 0 represents the background class.\n",
    "\n",
    "    The label masks are stored in a new folder, called `pre_encoded`, which\n",
    "    is added as a subdirectory of the `SegmentationClass` folder in the\n",
    "    original Pascal VOC data layout.\n",
    "\n",
    "    A total of five data splits are provided for working with the VOC data:\n",
    "        train: The original VOC 2012 training data - 1464 images\n",
    "        val: The original VOC 2012 validation data - 1449 images\n",
    "        trainval: The combination of `train` and `val` - 2913 images\n",
    "        train_aug: The unique images present in both the train split and\n",
    "                   training images from SBD: - 8829 images (the unique members\n",
    "                   of the result of combining lists of length 1464 and 8498)\n",
    "        train_aug_val: The original VOC 2012 validation data minus the images\n",
    "                   present in `train_aug` (This is done with the same logic as\n",
    "                   the validation set used in FCN PAMI paper, but with VOC 2012\n",
    "                   rather than VOC 2011) - 904 images\n",
    "    \"\"\"\n",
    "\n",
    "    def __init__(\n",
    "        self,\n",
    "        root,\n",
    "        sbd_path=None,\n",
    "        split=\"train_aug\",\n",
    "        is_transform=False,\n",
    "        img_size=512,\n",
    "        augmentations=None,\n",
    "        img_norm=True,\n",
    "        test_mode=False,\n",
    "    ):\n",
    "        self.root = root\n",
    "        self.sbd_path = sbd_path\n",
    "        self.split = split\n",
    "        self.is_transform = is_transform\n",
    "        self.augmentations = augmentations\n",
    "        self.img_norm = img_norm\n",
    "        self.test_mode = test_mode\n",
    "        self.n_classes = 21\n",
    "        self.mean = np.array([104.00699, 116.66877, 122.67892])\n",
    "        self.files = collections.defaultdict(list)\n",
    "        self.img_size = img_size if isinstance(img_size, tuple) else (img_size, img_size)\n",
    "\n",
    "        if not self.test_mode:\n",
    "            for split in [\"train\", \"val\", \"trainval\"]:\n",
    "                path = pjoin(self.root, \"ImageSets/Segmentation\", split + \".txt\")\n",
    "                file_list = tuple(open(path, \"r\"))\n",
    "                file_list = [id_.rstrip() for id_ in file_list]\n",
    "                self.files[split] = file_list\n",
    "            self.setup_annotations()\n",
    "\n",
    "        self.tf = transforms.Compose(\n",
    "            [\n",
    "                # add more trasnformations as you see fit\n",
    "                transforms.ToTensor(),\n",
    "                transforms.Normalize([0.485, 0.456, 0.406], [0.229, 0.224, 0.225]),\n",
    "            ]\n",
    "        )\n",
    "\n",
    "    def __len__(self):\n",
    "        return len(self.files[self.split])\n",
    "\n",
    "    def __getitem__(self, index):\n",
    "        im_name = self.files[self.split][index]\n",
    "        im_path = pjoin(self.root, \"JPEGImages\", im_name + \".jpg\")\n",
    "        lbl_path = pjoin(self.root, \"SegmentationClass/pre_encoded\", im_name + \".png\")\n",
    "        im = Image.open(im_path)\n",
    "        lbl = Image.open(lbl_path)\n",
    "        if self.augmentations is not None:\n",
    "            im, lbl = self.augmentations(im, lbl)\n",
    "        if self.is_transform:\n",
    "            im, lbl = self.transform(im, lbl)\n",
    "        return im, torch.clamp(lbl, max=20)\n",
    "\n",
    "    def transform(self, img, lbl):\n",
    "        if self.img_size == (\"same\", \"same\"):\n",
    "            pass\n",
    "        else:\n",
    "            img = img.resize((self.img_size[0], self.img_size[1]))  # uint8 with RGB mode\n",
    "            lbl = lbl.resize((self.img_size[0], self.img_size[1]))\n",
    "        img = self.tf(img)\n",
    "        lbl = torch.from_numpy(np.array(lbl)).long()\n",
    "        lbl[lbl == 255] = 0\n",
    "        return img, lbl\n",
    "\n",
    "    def get_pascal_labels(self):\n",
    "        \"\"\"Load the mapping that associates pascal classes with label colors\n",
    "\n",
    "        Returns:\n",
    "            np.ndarray with dimensions (21, 3)\n",
    "        \"\"\"\n",
    "        return np.asarray(\n",
    "            [\n",
    "                [0, 0, 0],\n",
    "                [128, 0, 0],\n",
    "                [0, 128, 0],\n",
    "                [128, 128, 0],\n",
    "                [0, 0, 128],\n",
    "                [128, 0, 128],\n",
    "                [0, 128, 128],\n",
    "                [128, 128, 128],\n",
    "                [64, 0, 0],\n",
    "                [192, 0, 0],\n",
    "                [64, 128, 0],\n",
    "                [192, 128, 0],\n",
    "                [64, 0, 128],\n",
    "                [192, 0, 128],\n",
    "                [64, 128, 128],\n",
    "                [192, 128, 128],\n",
    "                [0, 64, 0],\n",
    "                [128, 64, 0],\n",
    "                [0, 192, 0],\n",
    "                [128, 192, 0],\n",
    "                [0, 64, 128],\n",
    "            ]\n",
    "        )\n",
    "\n",
    "    def encode_segmap(self, mask):\n",
    "        \"\"\"Encode segmentation label images as pascal classes\n",
    "\n",
    "        Args:\n",
    "            mask (np.ndarray): raw segmentation label image of dimension\n",
    "              (M, N, 3), in which the Pascal classes are encoded as colours.\n",
    "\n",
    "        Returns:\n",
    "            (np.ndarray): class map with dimensions (M,N), where the value at\n",
    "            a given location is the integer denoting the class index.\n",
    "        \"\"\"\n",
    "        mask = mask.astype(int)\n",
    "        label_mask = np.zeros((mask.shape[0], mask.shape[1]), dtype=np.int16)\n",
    "        for ii, label in enumerate(self.get_pascal_labels()):\n",
    "            label_mask[np.where(np.all(mask == label, axis=-1))[:2]] = ii\n",
    "        label_mask = label_mask.astype(int)\n",
    "        # print(np.unique(label_mask))\n",
    "        return label_mask\n",
    "\n",
    "    def decode_segmap(self, label_mask, plot=False):\n",
    "        \"\"\"Decode segmentation class labels into a color image\n",
    "\n",
    "        Args:\n",
    "            label_mask (np.ndarray): an (M,N) array of integer values denoting\n",
    "              the class label at each spatial location.\n",
    "            plot (bool, optional): whether to show the resulting color image\n",
    "              in a figure.\n",
    "\n",
    "        Returns:\n",
    "            (np.ndarray, optional): the resulting decoded color image.\n",
    "        \"\"\"\n",
    "        label_colours = self.get_pascal_labels()\n",
    "        r = label_mask.copy()\n",
    "        g = label_mask.copy()\n",
    "        b = label_mask.copy()\n",
    "        for ll in range(0, self.n_classes):\n",
    "            r[label_mask == ll] = label_colours[ll, 0]\n",
    "            g[label_mask == ll] = label_colours[ll, 1]\n",
    "            b[label_mask == ll] = label_colours[ll, 2]\n",
    "        rgb = np.zeros((label_mask.shape[0], label_mask.shape[1], 3))\n",
    "        rgb[:, :, 0] = r / 255.0\n",
    "        rgb[:, :, 1] = g / 255.0\n",
    "        rgb[:, :, 2] = b / 255.0\n",
    "        if plot:\n",
    "            plt.imshow(rgb)\n",
    "            plt.show()\n",
    "        else:\n",
    "            return rgb\n",
    "\n",
    "    def setup_annotations(self):\n",
    "        \"\"\"Sets up Berkley annotations by adding image indices to the\n",
    "        `train_aug` split and pre-encode all segmentation labels into the\n",
    "        common label_mask format (if this has not already been done). This\n",
    "        function also defines the `train_aug` and `train_aug_val` data splits\n",
    "        according to the description in the class docstring\n",
    "        \"\"\"\n",
    "        sbd_path = self.sbd_path\n",
    "        target_path = pjoin(self.root, \"SegmentationClass/pre_encoded\")\n",
    "        if not os.path.exists(target_path):\n",
    "            os.makedirs(target_path)\n",
    "        train_aug = self.files[\"train\"]\n",
    "\n",
    "        # keep unique elements (stable)\n",
    "        train_aug = [train_aug[i] for i in sorted(np.unique(train_aug, return_index=True)[1])]\n",
    "        self.files[\"train_aug\"] = train_aug\n",
    "        set_diff = set(self.files[\"val\"]) - set(train_aug)  # remove overlap\n",
    "        self.files[\"train_aug_val\"] = list(set_diff)\n",
    "\n",
    "        pre_encoded = glob.glob(pjoin(target_path, \"*.png\"))\n",
    "        expected = np.unique(self.files[\"train_aug\"] + self.files[\"val\"]).size\n",
    "\n",
    "        if len(pre_encoded) != expected:\n",
    "            print(\"Pre-encoding segmentation masks...\")\n",
    "\n",
    "            for ii in tqdm(self.files[\"trainval\"]):\n",
    "                fname = ii + \".png\"\n",
    "                lbl_path = pjoin(self.root, \"SegmentationClass\", fname)\n",
    "                lbl = self.encode_segmap(m.imread(lbl_path))\n",
    "                lbl = m.toimage(lbl, high=lbl.max(), low=lbl.min())\n",
    "                m.imsave(pjoin(target_path, fname), lbl)\n",
    "\n",
    "        assert expected == 2913, \"unexpected dataset sizes\""
   ]
  },
  {
   "cell_type": "code",
   "execution_count": null,
   "metadata": {},
   "outputs": [],
   "source": [
    "N_CLASSES = 21"
   ]
  },
  {
   "cell_type": "markdown",
   "metadata": {},
   "source": [
    "### 1.2 Define the model architecture(2.0 point)\n",
    "In this section you have the freedom to decide your own model. Keep in mind though, to perform image segmentation, you need to implement an architecture that does pixel level classification i.e. for each pixel in the image you need to predict the probability of it belonging to one of the 21 categories."
   ]
  },
  {
   "cell_type": "code",
   "execution_count": null,
   "metadata": {},
   "outputs": [],
   "source": [
    "import torch.nn as nn\n",
    "import torch.nn.functional as F"
   ]
  },
  {
   "cell_type": "code",
   "execution_count": null,
   "metadata": {},
   "outputs": [],
   "source": [
    "# Wrappers Around nn.Conv2d and nn.ConvTranspose2d\n",
    "# They add mandatory batch norm and relu activation:\n",
    "# s.t. they compute f(x) = ReLU(Conv(BatchNorm(x))\n",
    "# Also add way of inspecting output sizes given input size\n",
    "class Conv2d(nn.Conv2d):\n",
    "    \n",
    "    def __init__(self, in_dims, *args, **kwargs):\n",
    "        super().__init__(*args, **kwargs)\n",
    "        self.in_dims = in_dims\n",
    "        self.bn = nn.BatchNorm2d(self.in_channels)\n",
    "    \n",
    "    def forward(self, x):\n",
    "        return F.relu(super().forward(self.bn(x)))\n",
    "    \n",
    "    def _out_dim(self, i=0):\n",
    "        return int(\n",
    "            (self.in_dims[i] + self.padding[i] - self.dilation[i] * (self.kernel_size[i] - 1) - 1)\n",
    "            / self.stride[i] + 1\n",
    "        )\n",
    "    \n",
    "    def out_dims(self):\n",
    "        return (self._out_dim(0), self._out_dim(1))\n",
    "        \n",
    "class DeConv2d(nn.ConvTranspose2d):\n",
    "    \n",
    "    def __init__(self, in_dims, *args, **kwargs):\n",
    "        super().__init__(*args, **kwargs)\n",
    "        self.in_dims = in_dims\n",
    "        self.bn = nn.BatchNorm2d(self.in_channels)\n",
    "    \n",
    "    def forward(self, x):\n",
    "        return F.relu(super().forward(self.bn(x)))\n",
    "    \n",
    "    def _out_dim(self, i=0):\n",
    "        return ((self.in_dims[i] - 1) * self.stride[i] \n",
    "                - 2 * self.padding[i]\n",
    "                + self.dilation[i] * (self.kernel_size[i] - 1)\n",
    "                + self.output_padding[i] + 1)\n",
    "    \n",
    "    def out_dims(self):\n",
    "        return (self._out_dim(0), self._out_dim(1))        \n",
    "        "
   ]
  },
  {
   "cell_type": "code",
   "execution_count": null,
   "metadata": {},
   "outputs": [],
   "source": [
    "DeConv2d((125, 125), 1, 1, kernel_size=3, stride=2, dilation=3).out_dims()"
   ]
  },
  {
   "cell_type": "code",
   "execution_count": null,
   "metadata": {},
   "outputs": [],
   "source": [
    "class Conv2dBlock(nn.Module):\n",
    "    \n",
    "    def __init__(self, in_dims, in_channels, out_channels, depth,\n",
    "                 *args, max_pool=False, **kwargs):\n",
    "        super().__init__()\n",
    "        \n",
    "        self.in_dims = in_dims\n",
    "        self.max_pool = max_pool\n",
    "        \n",
    "        modules = []\n",
    "        \n",
    "        # initial convolution\n",
    "        modules.append(Conv2d(in_dims, in_channels, out_channels, *args, **kwargs))\n",
    "        \n",
    "        # all the other following conv layers\n",
    "        for i in range(1, depth):\n",
    "            _in_dims = modules[i-1].out_dims()\n",
    "            modules.append(Conv2d(_in_dims, out_channels, out_channels, *args, **kwargs))\n",
    "        \n",
    "        # optional max pooling\n",
    "        if max_pool:\n",
    "            modules.append(nn.MaxPool2d(2))\n",
    "            \n",
    "        self.net = nn.Sequential(*modules)\n",
    "        \n",
    "        #assert all(d % 2 == 0 for d in self.out_dims()), print(self.out_dims())\n",
    "        \n",
    "    def forward(self, x):\n",
    "        return self.net(x)\n",
    "    \n",
    "    def out_dims(self):\n",
    "        if self.max_pool:\n",
    "            return tuple(d // 2 for d in self.net[-2].out_dims())\n",
    "        else:\n",
    "            return self.net[-1].out_dims()\n",
    "            \n",
    "    \n",
    "class Encoder(nn.Module):\n",
    "    \n",
    "    def __init__(self, in_dims, in_channels, out_channels, conv_depth, path_depth):\n",
    "        \n",
    "        super().__init__()       \n",
    "        modules = []\n",
    "        \n",
    "        for k in range(path_depth):\n",
    "            \n",
    "            modules.append(Conv2dBlock(in_dims, in_channels, out_channels, conv_depth,\n",
    "                                       kernel_size=3, stride=1, padding=1,max_pool=k != (path_depth - 1)))\n",
    "            in_channels = out_channels\n",
    "            out_channels = out_channels * 2          \n",
    "            in_dims = modules[-1].out_dims()\n",
    "            \n",
    "        self.net = nn.Sequential(*modules)\n",
    "        \n",
    "    def out_dims(self):\n",
    "        return self.net[-1].out_dims()\n",
    "    \n",
    "    def forward(self, x):\n",
    "        return self.net(x)\n",
    "    \n",
    "class Decoder(nn.Module):\n",
    "\n",
    "    def __init__(self, in_dims, in_channels, conv_depth, path_depth):\n",
    "        \n",
    "        super().__init__()\n",
    "        modules = []\n",
    "        \n",
    "        for k in range(path_depth-1):\n",
    "            \n",
    "            modules.append(DeConv2d(in_dims, in_channels, in_channels // 2, kernel_size=2, stride=2))\n",
    "            in_channels = in_channels // 2\n",
    "            in_dims = modules[-1].out_dims()\n",
    "            \n",
    "            modules.append(Conv2dBlock(in_dims, in_channels, in_channels, conv_depth,\n",
    "                                       kernel_size=3, stride=1, padding=1))\n",
    "            in_dims = modules[-1].out_dims()\n",
    "            \n",
    "        self.net = nn.Sequential(*modules)\n",
    "        \n",
    "    def forward(self, x):\n",
    "        return self.net(x)\n",
    "    \n",
    "    def out_dims(self):\n",
    "        return self.net[-1].out_dims()"
   ]
  },
  {
   "cell_type": "code",
   "execution_count": null,
   "metadata": {
    "executionInfo": {
     "elapsed": 258581,
     "status": "ok",
     "timestamp": 1610647602625,
     "user": {
      "displayName": "dikshant gupta",
      "photoUrl": "https://lh3.googleusercontent.com/a-/AOh14GjGExYbOwwSrmoe8LVKyI5XQQl2f1k4HbD2Vx5Vpg=s64",
      "userId": "01845807612441668603"
     },
     "user_tz": -60
    },
    "id": "CatAsvH3GTXs"
   },
   "outputs": [],
   "source": [
    "class Segnet(nn.Module):\n",
    "  \n",
    "    def __init__(self, in_dims=(512, 512), d0=32, conv_depth=2, path_depth=2):\n",
    "        super(Segnet, self).__init__()\n",
    "        \n",
    "        self.encoder = Encoder(in_dims, 3, d0, conv_depth, path_depth)\n",
    "        \n",
    "        self.decoder = Decoder(self.encoder.out_dims(), d0*(2**(path_depth-1)), conv_depth, path_depth)\n",
    "        \n",
    "        self.classifier = nn.Conv2d(d0, N_CLASSES, kernel_size=1, stride=1, padding=0)\n",
    "\n",
    "    def forward(self, x):\n",
    "        x1 = self.encoder(x)\n",
    "        print(x1.shape)\n",
    "        x2 = self.decoder(x1)\n",
    "        print(x2.shape)\n",
    "        pred = self.classifier(x2)\n",
    "        print(pred.shape)\n",
    "        return pred\n",
    "    "
   ]
  },
  {
   "cell_type": "code",
   "execution_count": null,
   "metadata": {},
   "outputs": [],
   "source": [
    "def param_count(module):\n",
    "    return sum(p.numel() for p in module.parameters())\n",
    "\n",
    "def print_params(model):\n",
    "    for name, module in model.named_modules():\n",
    "        mdepth = name.count('.')\n",
    "        if mdepth > 1:\n",
    "            continue\n",
    "        print('\\t'*mdepth + name + ':' + str(param_count(module)))\n",
    "\n",
    "param_count(nn.Conv2d(8, 8, 3))"
   ]
  },
  {
   "cell_type": "code",
   "execution_count": null,
   "metadata": {
    "executionInfo": {
     "elapsed": 11035,
     "status": "ok",
     "timestamp": 1610647664665,
     "user": {
      "displayName": "dikshant gupta",
      "photoUrl": "https://lh3.googleusercontent.com/a-/AOh14GjGExYbOwwSrmoe8LVKyI5XQQl2f1k4HbD2Vx5Vpg=s64",
      "userId": "01845807612441668603"
     },
     "user_tz": -60
    },
    "id": "QfQiOnEkGZat"
   },
   "outputs": [],
   "source": [
    "# Creating an instance of the model defined above. \n",
    "# You can modify it incase you need to pass paratemers to the constructor.\n",
    "model = Segnet()\n",
    "print_params(model)\n",
    "model"
   ]
  },
  {
   "cell_type": "markdown",
   "metadata": {},
   "source": [
    "### 1.3 Hyperparameters(0.5 points)\n",
    "Define all the hyperparameters(not restricted to the three given below) that you find useful here."
   ]
  },
  {
   "cell_type": "code",
   "execution_count": null,
   "metadata": {},
   "outputs": [],
   "source": [
    "local_path = 'VOCdevkit/VOC2012/' # modify it according to your device\n",
    "bs = 32\n",
    "epochs = 1\n",
    "lr=5e-4"
   ]
  },
  {
   "cell_type": "markdown",
   "metadata": {},
   "source": [
    "### 1.4 Dataset and Dataloader(0.5 points)\n",
    "Create the dataset using pascalVOCDataset class defined above. Use local_path defined in the cell above as root. "
   ]
  },
  {
   "cell_type": "code",
   "execution_count": null,
   "metadata": {},
   "outputs": [],
   "source": [
    "# dataset variable\n",
    "dst = pascalVOCDataset(local_path, is_transform=True)\n",
    "\n",
    "# dataloader variable\n",
    "trainloader = torch.utils.data.DataLoader(dst, batch_size=bs, shuffle=True)"
   ]
  },
  {
   "cell_type": "markdown",
   "metadata": {},
   "source": [
    "### 1.5 Loss fuction and Optimizer(1.0 point)\n",
    "Define below with the loss function you think would be most suitable for segmentation task. You are free to choose any optimizer to train the network."
   ]
  },
  {
   "cell_type": "code",
   "execution_count": null,
   "metadata": {},
   "outputs": [],
   "source": [
    "# loss function\n",
    "loss_f = nn.CrossEntropyLoss(weight=weights)\n",
    "\n",
    "# optimizer variable\n",
    "opt = torch.optim.Adam(model.parameters(), lr=lr)"
   ]
  },
  {
   "cell_type": "markdown",
   "metadata": {},
   "source": [
    "### 1.6 Training the model(3.0 points)\n",
    "Your task here is to complete the code below to perform a training loop and save the model weights after each epoch of training."
   ]
  },
  {
   "cell_type": "code",
   "execution_count": null,
   "metadata": {},
   "outputs": [],
   "source": [
    "import logging\n",
    "logging.basicConfig(format='%(asctime)s %(message)s', level=logging.INFO)"
   ]
  },
  {
   "cell_type": "code",
   "execution_count": null,
   "metadata": {
    "id": "Xz08hSdPKODm"
   },
   "outputs": [],
   "source": [
    "for i_epoch in range(1, epochs + 1):\n",
    "    logging.info(\"Epoch %d / %d\", i_epoch, epochs)\n",
    "    for i, d in enumerate(trainloader):\n",
    "        x, target = d\n",
    "        pred = model(x)\n",
    "        loss = loss_f(pred, target)\n",
    "        \n",
    "        opt.zero_grad()\n",
    "        loss.backward()\n",
    "        opt.step()\n",
    "        \n",
    "        logging.info(\"Batch %d / %d - Loss: %.3f\", i, len(trainloader), loss.item())"
   ]
  },
  {
   "cell_type": "markdown",
   "metadata": {},
   "source": [
    "### 1.7 Evaluate your model(1.5 points)\n",
    "In this section you have to implement the evaluation metrics for your model. Calculate the values of F1-score, dice coefficient and AUC-ROC score on the data you used for training. You can use external packages like scikit-learn to compute above metrics."
   ]
  },
  {
   "cell_type": "code",
   "execution_count": null,
   "metadata": {},
   "outputs": [],
   "source": [
    "def evaluate(ground_truth, predictions):\n",
    "    \n",
    "    return f1_score, auc_score, dice_coeeficient"
   ]
  },
  {
   "cell_type": "markdown",
   "metadata": {},
   "source": [
    "### 1.8 Plot the evaluation metrics against epochs(1.0)\n",
    "In section 1.6 we saved the weights of the model after each epoch. In this section, you have to calculate the evaluation metrics after each epoch of training by loading the weights for each epoch. Once you have calculated the evaluation metrics for each epoch, plot them against the epochs."
   ]
  },
  {
   "cell_type": "code",
   "execution_count": null,
   "metadata": {},
   "outputs": [],
   "source": []
  },
  {
   "cell_type": "markdown",
   "metadata": {},
   "source": [
    "### 1.9 Visualize results(0.5 points)\n",
    "For any 10 images in the dataset, show the images along the with their segmentation mask."
   ]
  },
  {
   "cell_type": "code",
   "execution_count": null,
   "metadata": {
    "id": "3NS50IL_c7Mf"
   },
   "outputs": [],
   "source": [
    "import random\n",
    "i = random.randint(0,100)\n",
    "\n",
    "x, y = dst[i]\n",
    "x = x.unsqueeze(0)\n",
    "\n",
    "pred = model(x).squeeze(0)\n",
    "pred = torch.argmax(pred, dim=0)\n",
    "\n",
    "dst.decode_segmap(pred.numpy(), plot=True)\n",
    "dst.decode_segmap(y.numpy(), plot=True)"
   ]
  },
  {
   "cell_type": "code",
   "execution_count": null,
   "metadata": {},
   "outputs": [],
   "source": []
  },
  {
   "cell_type": "code",
   "execution_count": null,
   "metadata": {},
   "outputs": [],
   "source": [
    "total_counts = torch.zeros(N_CLASSES)\n",
    "i = 0\n",
    "while True:\n",
    "    try:\n",
    "        _, labels = dst[i]\n",
    "    except:\n",
    "        break\n",
    "    classes, counts = torch.unique(labels, return_counts=True)\n",
    "    total_counts[classes] += counts\n",
    "    i = i + 1"
   ]
  },
  {
   "cell_type": "code",
   "execution_count": null,
   "metadata": {},
   "outputs": [],
   "source": [
    "beta = 0.5\n",
    "soft_counts = total_counts ** beta\n",
    "weights = soft_counts.mean() / soft_counts"
   ]
  },
  {
   "cell_type": "code",
   "execution_count": null,
   "metadata": {},
   "outputs": [],
   "source": [
    "plt.bar(np.arange(N_CLASSES), weights)"
   ]
  },
  {
   "cell_type": "code",
   "execution_count": null,
   "metadata": {},
   "outputs": [],
   "source": [
    "weights.size()"
   ]
  },
  {
   "cell_type": "code",
   "execution_count": null,
   "metadata": {},
   "outputs": [],
   "source": []
  }
 ],
 "metadata": {
  "accelerator": "GPU",
  "colab": {
   "authorship_tag": "ABX9TyNWH9Es3iVeYFlc2UXzgAC7",
   "collapsed_sections": [],
   "mount_file_id": "1VGd6BoJzZfNjljQpW2Y1nDcze9QND0pA",
   "name": "Copy of segmentation_1.ipynb",
   "provenance": [
    {
     "file_id": "1VGd6BoJzZfNjljQpW2Y1nDcze9QND0pA",
     "timestamp": 1610458540688
    }
   ]
  },
  "kernelspec": {
   "display_name": "nnti",
   "language": "python",
   "name": "nnti"
  },
  "language_info": {
   "codemirror_mode": {
    "name": "ipython",
    "version": 3
   },
   "file_extension": ".py",
   "mimetype": "text/x-python",
   "name": "python",
   "nbconvert_exporter": "python",
   "pygments_lexer": "ipython3",
   "version": "3.7.10"
  }
 },
 "nbformat": 4,
 "nbformat_minor": 1
}
